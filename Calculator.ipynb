{
  "nbformat": 4,
  "nbformat_minor": 0,
  "metadata": {
    "colab": {
      "provenance": []
    },
    "kernelspec": {
      "name": "python3",
      "display_name": "Python 3"
    },
    "language_info": {
      "name": "python"
    }
  },
  "cells": [
    {
      "cell_type": "code",
      "execution_count": null,
      "metadata": {
        "colab": {
          "base_uri": "https://localhost:8080/"
        },
        "id": "ddhxflUG3Zib",
        "outputId": "3eecfa4d-a1b2-4acd-fc3a-825e92552fc7"
      },
      "outputs": [
        {
          "output_type": "stream",
          "name": "stdout",
          "text": [
            "Choose an operator\n",
            "1 - Add\n",
            "2 - Substract\n",
            "3 - multiplication\n",
            "4 - Division\n",
            "Choose an Operation1\n",
            "Enter first number10\n",
            "Enter second number20\n",
            "The result of the operation is 30\n"
          ]
        }
      ],
      "source": [
        "print(\"Choose an operator\")\n",
        "print(\"1 - Add\")\n",
        "print(\"2 - Substract\")\n",
        "print(\"3 - multiplication\")\n",
        "print(\"4 - Division\")\n",
        "option = int(input(\"Choose an Operation\"))\n",
        "\n",
        "if(option in [1,2,3,4]):\n",
        "    num1 = int(input(\"Enter first number\"))\n",
        "    num2 = int(input(\"Enter second number\"))\n",
        "\n",
        "    if(option == 1):\n",
        "      result = num1 + num2\n",
        "    elif(option == 2):\n",
        "      result = num1 - num2\n",
        "    elif(option == 3):\n",
        "      result = num1 * num2\n",
        "    elif(option == 4):\n",
        "      result = num1 // num2\n",
        "\n",
        "else:\n",
        "    print(\"Invaild operation entered\")\n",
        "\n",
        "print(\"The result of the operation is {}\".format(result))"
      ]
    }
  ]
}